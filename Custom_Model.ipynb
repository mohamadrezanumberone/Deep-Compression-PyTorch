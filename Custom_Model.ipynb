{
  "cells": [
    {
      "cell_type": "markdown",
      "metadata": {
        "id": "view-in-github",
        "colab_type": "text"
      },
      "source": [
        "<a href=\"https://colab.research.google.com/github/mohamadrezanumberone/Deep-Compression-PyTorch/blob/master/Custom_Model.ipynb\" target=\"_parent\"><img src=\"https://colab.research.google.com/assets/colab-badge.svg\" alt=\"Open In Colab\"/></a>"
      ]
    },
    {
      "cell_type": "markdown",
      "metadata": {
        "id": "ElVeuqlSkrH4"
      },
      "source": [
        "# Import"
      ]
    },
    {
      "cell_type": "code",
      "execution_count": null,
      "metadata": {
        "id": "RGlznXnPj8Sc"
      },
      "outputs": [],
      "source": [
        "import torch\n",
        "import torchvision\n",
        "from torchvision.datasets import CIFAR10\n",
        "from torchvision import transforms\n",
        "import torch.nn as nn\n",
        "import copy\n",
        "import time\n",
        "import torch.optim as optim\n",
        "import numpy as np\n",
        "import torchvision.transforms as transforms\n",
        "from torchvision import datasets, models, transforms\n",
        "from __future__ import print_function\n",
        "from __future__ import division\n",
        "import matplotlib.pyplot as plt\n",
        "import torchvision.models as models\n",
        "import torchsummary\n",
        "from sklearn.cluster import KMeans\n",
        "from skimage.io import imread\n",
        "from skimage.color import rgb2gray\n",
        "import numpy as np\n",
        "%matplotlib inline\n",
        "from scipy import ndimage\n",
        "from PIL import Image\n",
        "import torch\n",
        "from collections import OrderedDict "
      ]
    },
    {
      "cell_type": "markdown",
      "metadata": {
        "id": "nuErdWcGk-b6"
      },
      "source": [
        "# Initialization\n"
      ]
    },
    {
      "cell_type": "code",
      "execution_count": null,
      "metadata": {
        "colab": {
          "base_uri": "https://localhost:8080/"
        },
        "id": "0Tmu4LpIk3EW",
        "outputId": "c5ea035f-bfb2-4d59-bd0f-70f00cc20f7a"
      },
      "outputs": [
        {
          "output_type": "stream",
          "name": "stdout",
          "text": [
            "cpu\n"
          ]
        }
      ],
      "source": [
        "batch_size = 256\n",
        "num_class = 10\n",
        "num_epochs = 24\n",
        "feature_extract = True\n",
        "device = 'cuda' if torch.cuda.is_available() else 'cpu'\n",
        "print(device)"
      ]
    },
    {
      "cell_type": "markdown",
      "metadata": {
        "id": "EbQ-F_3nlk9M"
      },
      "source": [
        "# Dataset"
      ]
    },
    {
      "cell_type": "code",
      "execution_count": null,
      "metadata": {
        "id": "1vpY8xEuln_6",
        "colab": {
          "base_uri": "https://localhost:8080/",
          "height": 101,
          "referenced_widgets": [
            "432ee19306884c37a8427daa2b1cb781",
            "028e1c8df8a94a51b5ac58fb12f96931",
            "619602252e34433c8b1f8bdb3274abf8",
            "a5c3e4628ca54ff89c96dc00747321c3",
            "b9a87b2ebde14f6eb7c794b50507f7fd",
            "5446c66aef104054b349ebcd14cc0cc6",
            "46c286e53a2c4301b8035fbb6473572b",
            "6d986039cbc545e386df818bc523502e",
            "4ff8db632c1042edafe99f2c90fa5292",
            "1d23538172f84fb985d513705462f8d1",
            "1624e06e35384107b91cec4a0ed8c419"
          ]
        },
        "outputId": "1bbc3e60-3edd-4be7-dccb-3e29cabf0596"
      },
      "outputs": [
        {
          "output_type": "stream",
          "name": "stdout",
          "text": [
            "Downloading https://www.cs.toronto.edu/~kriz/cifar-10-python.tar.gz to ./CIFAR10/cifar-10-python.tar.gz\n"
          ]
        },
        {
          "output_type": "display_data",
          "data": {
            "text/plain": [
              "  0%|          | 0/170498071 [00:00<?, ?it/s]"
            ],
            "application/vnd.jupyter.widget-view+json": {
              "version_major": 2,
              "version_minor": 0,
              "model_id": "432ee19306884c37a8427daa2b1cb781"
            }
          },
          "metadata": {}
        },
        {
          "output_type": "stream",
          "name": "stdout",
          "text": [
            "Extracting ./CIFAR10/cifar-10-python.tar.gz to ./CIFAR10\n",
            "Files already downloaded and verified\n"
          ]
        }
      ],
      "source": [
        "train_dataset = CIFAR10('./CIFAR10', train= True, transform= transforms.ToTensor(), target_transform = None, download= True)\n",
        "test_dataset = CIFAR10('./CIFAR10', train= False, transform= transforms.ToTensor(), target_transform = None, download= True)\n"
      ]
    },
    {
      "cell_type": "code",
      "execution_count": null,
      "metadata": {
        "id": "EjFXqZkIl2bC"
      },
      "outputs": [],
      "source": [
        "train_loader = torch.utils.data.DataLoader(dataset=train_dataset, batch_size=batch_size, shuffle=True)\n",
        "test_loader = torch.utils.data.DataLoader(dataset=test_dataset, batch_size=batch_size, shuffle=True)"
      ]
    },
    {
      "cell_type": "code",
      "execution_count": null,
      "metadata": {
        "id": "fNJq6qnCmhvZ"
      },
      "outputs": [],
      "source": [
        "for batch_number, (images, labels) in enumerate(train_loader):\n",
        "    print(batch_number, images.shape)"
      ]
    },
    {
      "cell_type": "code",
      "execution_count": null,
      "metadata": {
        "colab": {
          "base_uri": "https://localhost:8080/"
        },
        "id": "V9iC-sVmmsAx",
        "outputId": "e585392b-9d98-42cf-b8a0-8ff3d1fb9ec7"
      },
      "outputs": [
        {
          "output_type": "stream",
          "name": "stdout",
          "text": [
            "torch.Size([256, 3, 32, 32]) \n",
            " tensor([1, 6, 2, 7, 9, 1, 7, 0, 9, 8, 4, 4, 3, 9, 1, 8, 8, 9, 1, 6, 4, 5, 7, 2,\n",
            "        8, 1, 0, 6, 9, 0, 9, 7, 5, 8, 8, 9, 1, 1, 3, 7, 8, 2, 8, 5, 3, 5, 1, 9,\n",
            "        1, 4, 6, 2, 6, 0, 8, 0, 7, 2, 3, 0, 3, 1, 9, 6, 3, 1, 2, 2, 9, 2, 4, 9,\n",
            "        7, 1, 4, 9, 3, 9, 1, 9, 3, 7, 0, 3, 5, 7, 5, 8, 6, 1, 3, 0, 4, 9, 4, 6,\n",
            "        6, 5, 1, 0, 8, 7, 2, 6, 8, 2, 6, 9, 2, 8, 5, 9, 3, 6, 5, 5, 0, 4, 4, 1,\n",
            "        5, 4, 5, 0, 3, 5, 5, 1, 5, 3, 2, 8, 8, 7, 3, 6, 2, 7, 8, 2, 2, 4, 7, 2,\n",
            "        7, 9, 8, 4, 8, 9, 3, 3, 1, 5, 5, 5, 2, 4, 3, 3, 1, 6, 9, 4, 9, 0, 9, 3,\n",
            "        8, 7, 6, 0, 3, 6, 1, 9, 9, 5, 5, 1, 9, 8, 2, 6, 8, 2, 1, 0, 8, 0, 8, 5,\n",
            "        0, 2, 0, 5, 9, 1, 1, 0, 8, 7, 8, 9, 1, 8, 6, 5, 9, 1, 4, 9, 7, 4, 8, 4,\n",
            "        7, 9, 3, 4, 3, 0, 7, 4, 6, 0, 2, 4, 9, 9, 7, 7, 0, 5, 6, 9, 9, 7, 4, 3,\n",
            "        1, 2, 8, 8, 1, 0, 9, 2, 6, 6, 1, 9, 0, 4, 6, 8])\n"
          ]
        }
      ],
      "source": [
        "one_train_batch_imgs, one_train_batch_lbls = next(iter(train_loader))\n",
        "print(one_train_batch_imgs.shape,\"\\n\", one_train_batch_lbls)"
      ]
    },
    {
      "cell_type": "code",
      "execution_count": null,
      "metadata": {
        "id": "6CWeBp_Gmy6g"
      },
      "outputs": [],
      "source": [
        "dataloaders = {'train': train_loader ,'test': test_loader}"
      ]
    },
    {
      "cell_type": "markdown",
      "source": [
        "# Mounting Google Drive\n"
      ],
      "metadata": {
        "id": "hN_afon3a3Ff"
      }
    },
    {
      "cell_type": "code",
      "source": [
        "from google.colab import drive\n",
        "drive.mount('/content/drive')"
      ],
      "metadata": {
        "colab": {
          "base_uri": "https://localhost:8080/"
        },
        "id": "IkXGE5qRa8se",
        "outputId": "cc545aef-b6a5-42ed-e73e-77b536e2d1c1"
      },
      "execution_count": null,
      "outputs": [
        {
          "output_type": "stream",
          "name": "stdout",
          "text": [
            "Mounted at /content/drive\n"
          ]
        }
      ]
    },
    {
      "cell_type": "markdown",
      "source": [
        "# Copying Content"
      ],
      "metadata": {
        "id": "IgFLB-0Ma_tI"
      }
    },
    {
      "cell_type": "code",
      "source": [
        "!cp \"/content/drive/My Drive/raw_imgs\" \"/content/\""
      ],
      "metadata": {
        "id": "YmleqcIMlymg"
      },
      "execution_count": null,
      "outputs": []
    },
    {
      "cell_type": "code",
      "source": [
        "!cp \"/content/drive/My Drive/cls_imgs\" \"/content/\""
      ],
      "metadata": {
        "id": "k4RjNOcZbHA7"
      },
      "execution_count": null,
      "outputs": []
    },
    {
      "cell_type": "code",
      "source": [
        "!cp \"/content/drive/My Drive/cnt_list\" \"/content/\""
      ],
      "metadata": {
        "id": "LUmX7ZXNbD5z"
      },
      "execution_count": null,
      "outputs": []
    },
    {
      "cell_type": "markdown",
      "source": [
        "# Load"
      ],
      "metadata": {
        "id": "X3sxlY8RbWIk"
      }
    },
    {
      "cell_type": "code",
      "source": [
        "imgs = torch.load('raw_imgs')"
      ],
      "metadata": {
        "id": "ayyYpGy0loaY"
      },
      "execution_count": null,
      "outputs": []
    },
    {
      "cell_type": "code",
      "source": [
        "clustered_imgs = torch.load('cls_imgs')"
      ],
      "metadata": {
        "id": "geVEz89ObVGF"
      },
      "execution_count": null,
      "outputs": []
    },
    {
      "cell_type": "code",
      "source": [
        "cnt_ld = torch.load('cnt_list')"
      ],
      "metadata": {
        "id": "FO-Vn4sHba6x"
      },
      "execution_count": null,
      "outputs": []
    },
    {
      "cell_type": "markdown",
      "metadata": {
        "id": "xk1TJ9-gm0TW"
      },
      "source": [
        "# Model"
      ]
    },
    {
      "cell_type": "code",
      "execution_count": 93,
      "metadata": {
        "id": "qmNQ5dWWm43E"
      },
      "outputs": [],
      "source": [
        "class ConvApprox(nn.Module):\n",
        "\n",
        "    def __init__(self, num_class, in_channels, out_channels, kernel_size, stride):\n",
        "\n",
        "        super(ConvApprox, self).__init__() \n",
        "        self.weight = torch.randn(out_channels, in_channels, kernel_size, kernel_size)\n",
        "        self.in_channels = in_channels\n",
        "        self.out_channels = out_channels\n",
        "        self.kernel_size = kernel_size\n",
        "        self.stride = stride\n",
        "        # unfold\n",
        "        self.unfold = nn.Unfold(kernel_size=(kernel_size, kernel_size), stride=stride)\n",
        "        \n",
        "\n",
        "    def forward(self, input, center):\n",
        "     \n",
        "        img_unfold = self.unfold(input)\n",
        "        print(img_unfold.shape)\n",
        "     \n",
        "        variance = img_unfold.var(dim=1, keepdim=True)\n",
        "        same_ids = variance == 0\n",
        "        same_data = []\n",
        "        diff_data = []\n",
        "        for i, s in enumerate(same_ids):\n",
        "            same_data.append(img_unfold[i, :, s[0]])\n",
        "            diff_data.append(img_unfold[i, :, torch.logical_not(s[0])])\n",
        "    \n",
        "        \n",
        "        return same_data, diff_data\n",
        "\n",
        "        \n",
        "\n",
        "\n",
        "        \n",
        "\n"
      ]
    },
    {
      "cell_type": "code",
      "source": [
        "data_batch1 = torch.tensor(clustered_imgs[0]).unsqueeze(0).unsqueeze(0).float()\n",
        "data_batch2 = torch.tensor(imgs[0]).float()"
      ],
      "metadata": {
        "id": "uAFr8p6JhFWx",
        "colab": {
          "base_uri": "https://localhost:8080/"
        },
        "outputId": "9dba7fbd-e4aa-41e5-fb42-cc3c850fcdf9"
      },
      "execution_count": null,
      "outputs": [
        {
          "output_type": "stream",
          "name": "stderr",
          "text": [
            "/usr/local/lib/python3.7/dist-packages/ipykernel_launcher.py:2: UserWarning: To copy construct from a tensor, it is recommended to use sourceTensor.clone().detach() or sourceTensor.clone().detach().requires_grad_(True), rather than torch.tensor(sourceTensor).\n",
            "  \n"
          ]
        }
      ]
    },
    {
      "cell_type": "code",
      "source": [
        "a = torch.cat((torch.linspace(1, 10, 5).repeat(3, 1), torch.linspace(1, 5, 5).repeat(3, 1)), dim=1)\n",
        "b = a.view(2, 3, 5)\n",
        "a"
      ],
      "metadata": {
        "colab": {
          "base_uri": "https://localhost:8080/"
        },
        "id": "MogG8y2Tuf7r",
        "outputId": "fce58f1f-3992-479b-ce7f-14bf9f164722"
      },
      "execution_count": 51,
      "outputs": [
        {
          "output_type": "execute_result",
          "data": {
            "text/plain": [
              "tensor([[ 1.0000,  3.2500,  5.5000,  7.7500, 10.0000,  1.0000,  2.0000,  3.0000,\n",
              "          4.0000,  5.0000],\n",
              "        [ 1.0000,  3.2500,  5.5000,  7.7500, 10.0000,  1.0000,  2.0000,  3.0000,\n",
              "          4.0000,  5.0000],\n",
              "        [ 1.0000,  3.2500,  5.5000,  7.7500, 10.0000,  1.0000,  2.0000,  3.0000,\n",
              "          4.0000,  5.0000]])"
            ]
          },
          "metadata": {},
          "execution_count": 51
        }
      ]
    },
    {
      "cell_type": "code",
      "source": [
        "torch.linspace(1, 10, 5).repeat(3 ,1)"
      ],
      "metadata": {
        "colab": {
          "base_uri": "https://localhost:8080/"
        },
        "id": "75E7SURokt5h",
        "outputId": "4f8ed972-9df1-488f-f611-951ad23e0575"
      },
      "execution_count": 45,
      "outputs": [
        {
          "output_type": "execute_result",
          "data": {
            "text/plain": [
              "tensor([[ 1.0000,  3.2500,  5.5000,  7.7500, 10.0000],\n",
              "        [ 1.0000,  3.2500,  5.5000,  7.7500, 10.0000],\n",
              "        [ 1.0000,  3.2500,  5.5000,  7.7500, 10.0000]])"
            ]
          },
          "metadata": {},
          "execution_count": 45
        }
      ]
    },
    {
      "cell_type": "code",
      "source": [
        "out_channels, in_channels, kernel_size, stride, num_clusters = 32, 3, 3, 1, 3\n",
        "weight = torch.randn(out_channels, in_channels, kernel_size, kernel_size)\n",
        "unfold = nn.Unfold(kernel_size=(kernel_size, kernel_size), stride=stride)\n",
        "\n",
        "\n",
        "# Clustered image input\n",
        "input1 = data_batch1.clone()\n",
        "clusterimg_unfold = unfold(input1)\n",
        "\n",
        "# Image input\n",
        "input2 = data_batch2.clone()\n",
        "img_unfold = unfold(input2)\n",
        "b, c, n = img_unfold.shape\n",
        "\n",
        "img_unfold = img_unfold.view(b, 3, kernel_size**2, n)\n",
        "num_batch, _, num_windows = clusterimg_unfold.size()\n",
        "\n",
        "# Mean \n",
        "avg_unfold = torch.mean(img_unfold, dim=2)\n",
        "\n",
        "variance = clusterimg_unfold.var(dim=1, keepdim=True)\n",
        "same_ids = variance == 0\n",
        "\n",
        "same_data = []\n",
        "diff_data = []\n",
        "\n",
        "output = torch.zeros((num_batch, 1, out_channels, num_windows))\n",
        "\n",
        "w = weight.view(out_channels, in_channels, -1)\n",
        "\n",
        "for i, s in enumerate(same_ids):\n",
        "    # Same\n",
        "    sames = clusterimg_unfold[i, 0, s[0]]\n",
        "    # Diff\n",
        "    diffs = clusterimg_unfold[i, :, torch.logical_not(s[0])].t().flatten()\n",
        "    #\n",
        "    same_data = torch.matmul(torch.sum(w, dim=-1), avg_unfold[i, :, s[0]])\n",
        "    diff_data = torch.matmul((w).sum(-1) , avg_unfold[i, : ,torch.logical_not(s[0])])\n",
        "    # \n",
        "    output[i, 0, :, s[0]] += same_data\n",
        "    output[i, 0, :, torch.logical_not(s[0])] += diff_data.clone()\n",
        "\n",
        "#Fold \n",
        "fold = nn.Fold(output_size=(int(np.sqrt(num_windows)), int(np.sqrt(num_windows))), kernel_size=(1, 1))\n",
        "output = fold(output.squeeze(0))\n",
        "\n",
        "# output.requires_grad = True \n",
        "print(diff_data[0].shape)"
      ],
      "metadata": {
        "id": "lna0dFasnjiq",
        "colab": {
          "base_uri": "https://localhost:8080/"
        },
        "outputId": "91f3f62a-d274-45d3-9007-a134020df63f"
      },
      "execution_count": 100,
      "outputs": [
        {
          "output_type": "stream",
          "name": "stdout",
          "text": [
            "torch.Size([556])\n"
          ]
        }
      ]
    },
    {
      "cell_type": "code",
      "source": [
        "output.shape"
      ],
      "metadata": {
        "colab": {
          "base_uri": "https://localhost:8080/"
        },
        "id": "5yYbLvEa2h7v",
        "outputId": "13c47425-219d-40ea-d79e-a2377068356d"
      },
      "execution_count": 101,
      "outputs": [
        {
          "output_type": "execute_result",
          "data": {
            "text/plain": [
              "torch.Size([1, 32, 30, 30])"
            ]
          },
          "metadata": {},
          "execution_count": 101
        }
      ]
    },
    {
      "cell_type": "code",
      "execution_count": null,
      "metadata": {
        "id": "jhwv-W3k5Svh",
        "colab": {
          "base_uri": "https://localhost:8080/"
        },
        "outputId": "e0905c2d-2d20-437e-c674-060f8f6a8ce5"
      },
      "outputs": [
        {
          "output_type": "stream",
          "name": "stdout",
          "text": [
            "torch.Size([3, 9, 900])\n"
          ]
        }
      ],
      "source": [
        "model = ConvApprox(num_class, 3, 32, 3, 1)\n",
        "output = model(data_batch, centers_batch)"
      ]
    },
    {
      "cell_type": "code",
      "source": [
        "[print(o.shape) for o in output[0]]\n",
        "[print(o.shape) for o in output[1]]"
      ],
      "metadata": {
        "id": "4iDjJKw1kl8s"
      },
      "execution_count": null,
      "outputs": []
    },
    {
      "cell_type": "code",
      "source": [
        "sample_filter = torch.randn(1, 3, 3, 3)\n",
        "sample_filter.shape[2]"
      ],
      "metadata": {
        "colab": {
          "base_uri": "https://localhost:8080/"
        },
        "id": "Igd8jes02vxd",
        "outputId": "c808d949-b390-4673-ce12-1fb02482c875"
      },
      "execution_count": null,
      "outputs": [
        {
          "output_type": "execute_result",
          "data": {
            "text/plain": [
              "3"
            ]
          },
          "metadata": {},
          "execution_count": 21
        }
      ]
    },
    {
      "cell_type": "code",
      "execution_count": null,
      "metadata": {
        "colab": {
          "base_uri": "https://localhost:8080/"
        },
        "id": "f2Fy0jK-7BpF",
        "outputId": "635f5aca-d37c-4cef-a520-f3eaf5982305"
      },
      "outputs": [
        {
          "output_type": "execute_result",
          "data": {
            "text/plain": [
              "torch.Size([10, 10])"
            ]
          },
          "metadata": {},
          "execution_count": 8
        }
      ],
      "source": [
        "model(torch.randn(10, 3, 32, 32).to(device)).shape"
      ]
    },
    {
      "cell_type": "code",
      "execution_count": null,
      "metadata": {
        "colab": {
          "base_uri": "https://localhost:8080/"
        },
        "id": "gbvaDfsh5_Tx",
        "outputId": "c4ec2484-aa6d-42a4-8b29-8591ee74e3ff"
      },
      "outputs": [
        {
          "data": {
            "text/plain": [
              "torch.Size([256, 3, 32, 32])"
            ]
          },
          "execution_count": 168,
          "metadata": {},
          "output_type": "execute_result"
        }
      ],
      "source": [
        "a = next(iter(dataloaders['train']))\n",
        "a[0].shape\n",
        "# model(a[0].cuda()).shape"
      ]
    },
    {
      "cell_type": "markdown",
      "metadata": {
        "id": "MPMTRmbo_KmG"
      },
      "source": [
        "# Config"
      ]
    },
    {
      "cell_type": "code",
      "execution_count": null,
      "metadata": {
        "id": "hgrdADal_KL0"
      },
      "outputs": [],
      "source": [
        "criterion = nn.CrossEntropyLoss()\n",
        "\n",
        "optimizer = optim.SGD(model.parameters(), lr=0.01, momentum=0.9)"
      ]
    },
    {
      "cell_type": "markdown",
      "metadata": {
        "id": "DDTyhYri_ve_"
      },
      "source": [
        "# Trainer"
      ]
    },
    {
      "cell_type": "code",
      "execution_count": null,
      "metadata": {
        "id": "wFSId-SZ_vQ4"
      },
      "outputs": [],
      "source": [
        "def train_model(model, dataloaders, criterion, optimizer, num_epochs):\n",
        "    since = time.time()\n",
        "\n",
        "    val_acc_history = []\n",
        "\n",
        "    best_model_wts = copy.deepcopy(model.state_dict())\n",
        "    best_acc = 0.0\n",
        "\n",
        "    for epoch in range(num_epochs):\n",
        "        print('Epoch {}/{}'.format(epoch, num_epochs - 1))\n",
        "        print('-' * 10)\n",
        "\n",
        "        # Each epoch has a training and validation phase\n",
        "        for phase in ['train', 'test']:\n",
        "            if phase == 'train':\n",
        "                model.train()  # Set model to training mode\n",
        "            else:\n",
        "                model.eval()   # Set model to evaluate mode\n",
        "\n",
        "            running_loss = 0.0\n",
        "            running_corrects = 0\n",
        "\n",
        "            # Iterate over data.\n",
        "            for inputs, labels in dataloaders[phase]:\n",
        "                inputs = inputs.to(device)\n",
        "                labels = labels.to(device)\n",
        "\n",
        "                # zero the parameter gradients\n",
        "                optimizer.zero_grad()\n",
        "\n",
        "                # forward\n",
        "                # track history if only in train\n",
        "                with torch.set_grad_enabled(phase == 'train'):\n",
        "                \n",
        "                    outputs = model(inputs)\n",
        "                    loss = criterion(outputs, labels)\n",
        "\n",
        "                    _, preds = torch.max(outputs, 1)\n",
        "\n",
        "                    # backward + optimize only if in training phase\n",
        "                    if phase == 'train':\n",
        "                        loss.backward()\n",
        "                        optimizer.step()\n",
        "\n",
        "                # statistics\n",
        "                running_loss += loss.item() * inputs.size(0)\n",
        "                running_corrects += torch.sum(preds == labels.data)\n",
        "\n",
        "            epoch_loss = running_loss / len(dataloaders[phase].dataset)\n",
        "            epoch_acc = running_corrects.double() / len(dataloaders[phase].dataset)\n",
        "\n",
        "            print('{} Loss: {:.4f} Acc: {:.4f}'.format(phase, epoch_loss, epoch_acc))\n",
        "\n",
        "            # deep copy the model\n",
        "            if phase == 'test' and epoch_acc > best_acc:\n",
        "                best_acc = epoch_acc\n",
        "                best_model_wts = copy.deepcopy(model.state_dict())\n",
        "            if phase == 'test':\n",
        "                val_acc_history.append(epoch_acc)\n",
        "\n",
        "        print()\n",
        "\n",
        "    time_elapsed = time.time() - since\n",
        "    print('Training complete in {:.0f}m {:.0f}s'.format(time_elapsed // 60, time_elapsed % 60))\n",
        "    print('Best test Acc: {:4f}'.format(best_acc))\n",
        "\n",
        "    # load best model weights\n",
        "    model.load_state_dict(best_model_wts)\n",
        "    return model, val_acc_history"
      ]
    },
    {
      "cell_type": "code",
      "execution_count": null,
      "metadata": {
        "id": "VsOV9wlmAUpY"
      },
      "outputs": [],
      "source": [
        "model_ft, hist = train_model(model, dataloaders, criterion, optimizer, num_epochs=num_epochs)"
      ]
    }
  ],
  "metadata": {
    "colab": {
      "collapsed_sections": [],
      "name": "Custom_Model.ipynb",
      "provenance": [],
      "include_colab_link": true
    },
    "kernelspec": {
      "display_name": "Python 3",
      "name": "python3"
    },
    "language_info": {
      "name": "python"
    },
    "widgets": {
      "application/vnd.jupyter.widget-state+json": {
        "432ee19306884c37a8427daa2b1cb781": {
          "model_module": "@jupyter-widgets/controls",
          "model_name": "HBoxModel",
          "model_module_version": "1.5.0",
          "state": {
            "_dom_classes": [],
            "_model_module": "@jupyter-widgets/controls",
            "_model_module_version": "1.5.0",
            "_model_name": "HBoxModel",
            "_view_count": null,
            "_view_module": "@jupyter-widgets/controls",
            "_view_module_version": "1.5.0",
            "_view_name": "HBoxView",
            "box_style": "",
            "children": [
              "IPY_MODEL_028e1c8df8a94a51b5ac58fb12f96931",
              "IPY_MODEL_619602252e34433c8b1f8bdb3274abf8",
              "IPY_MODEL_a5c3e4628ca54ff89c96dc00747321c3"
            ],
            "layout": "IPY_MODEL_b9a87b2ebde14f6eb7c794b50507f7fd"
          }
        },
        "028e1c8df8a94a51b5ac58fb12f96931": {
          "model_module": "@jupyter-widgets/controls",
          "model_name": "HTMLModel",
          "model_module_version": "1.5.0",
          "state": {
            "_dom_classes": [],
            "_model_module": "@jupyter-widgets/controls",
            "_model_module_version": "1.5.0",
            "_model_name": "HTMLModel",
            "_view_count": null,
            "_view_module": "@jupyter-widgets/controls",
            "_view_module_version": "1.5.0",
            "_view_name": "HTMLView",
            "description": "",
            "description_tooltip": null,
            "layout": "IPY_MODEL_5446c66aef104054b349ebcd14cc0cc6",
            "placeholder": "​",
            "style": "IPY_MODEL_46c286e53a2c4301b8035fbb6473572b",
            "value": ""
          }
        },
        "619602252e34433c8b1f8bdb3274abf8": {
          "model_module": "@jupyter-widgets/controls",
          "model_name": "FloatProgressModel",
          "model_module_version": "1.5.0",
          "state": {
            "_dom_classes": [],
            "_model_module": "@jupyter-widgets/controls",
            "_model_module_version": "1.5.0",
            "_model_name": "FloatProgressModel",
            "_view_count": null,
            "_view_module": "@jupyter-widgets/controls",
            "_view_module_version": "1.5.0",
            "_view_name": "ProgressView",
            "bar_style": "success",
            "description": "",
            "description_tooltip": null,
            "layout": "IPY_MODEL_6d986039cbc545e386df818bc523502e",
            "max": 170498071,
            "min": 0,
            "orientation": "horizontal",
            "style": "IPY_MODEL_4ff8db632c1042edafe99f2c90fa5292",
            "value": 170498071
          }
        },
        "a5c3e4628ca54ff89c96dc00747321c3": {
          "model_module": "@jupyter-widgets/controls",
          "model_name": "HTMLModel",
          "model_module_version": "1.5.0",
          "state": {
            "_dom_classes": [],
            "_model_module": "@jupyter-widgets/controls",
            "_model_module_version": "1.5.0",
            "_model_name": "HTMLModel",
            "_view_count": null,
            "_view_module": "@jupyter-widgets/controls",
            "_view_module_version": "1.5.0",
            "_view_name": "HTMLView",
            "description": "",
            "description_tooltip": null,
            "layout": "IPY_MODEL_1d23538172f84fb985d513705462f8d1",
            "placeholder": "​",
            "style": "IPY_MODEL_1624e06e35384107b91cec4a0ed8c419",
            "value": " 170499072/? [00:03&lt;00:00, 48074473.80it/s]"
          }
        },
        "b9a87b2ebde14f6eb7c794b50507f7fd": {
          "model_module": "@jupyter-widgets/base",
          "model_name": "LayoutModel",
          "model_module_version": "1.2.0",
          "state": {
            "_model_module": "@jupyter-widgets/base",
            "_model_module_version": "1.2.0",
            "_model_name": "LayoutModel",
            "_view_count": null,
            "_view_module": "@jupyter-widgets/base",
            "_view_module_version": "1.2.0",
            "_view_name": "LayoutView",
            "align_content": null,
            "align_items": null,
            "align_self": null,
            "border": null,
            "bottom": null,
            "display": null,
            "flex": null,
            "flex_flow": null,
            "grid_area": null,
            "grid_auto_columns": null,
            "grid_auto_flow": null,
            "grid_auto_rows": null,
            "grid_column": null,
            "grid_gap": null,
            "grid_row": null,
            "grid_template_areas": null,
            "grid_template_columns": null,
            "grid_template_rows": null,
            "height": null,
            "justify_content": null,
            "justify_items": null,
            "left": null,
            "margin": null,
            "max_height": null,
            "max_width": null,
            "min_height": null,
            "min_width": null,
            "object_fit": null,
            "object_position": null,
            "order": null,
            "overflow": null,
            "overflow_x": null,
            "overflow_y": null,
            "padding": null,
            "right": null,
            "top": null,
            "visibility": null,
            "width": null
          }
        },
        "5446c66aef104054b349ebcd14cc0cc6": {
          "model_module": "@jupyter-widgets/base",
          "model_name": "LayoutModel",
          "model_module_version": "1.2.0",
          "state": {
            "_model_module": "@jupyter-widgets/base",
            "_model_module_version": "1.2.0",
            "_model_name": "LayoutModel",
            "_view_count": null,
            "_view_module": "@jupyter-widgets/base",
            "_view_module_version": "1.2.0",
            "_view_name": "LayoutView",
            "align_content": null,
            "align_items": null,
            "align_self": null,
            "border": null,
            "bottom": null,
            "display": null,
            "flex": null,
            "flex_flow": null,
            "grid_area": null,
            "grid_auto_columns": null,
            "grid_auto_flow": null,
            "grid_auto_rows": null,
            "grid_column": null,
            "grid_gap": null,
            "grid_row": null,
            "grid_template_areas": null,
            "grid_template_columns": null,
            "grid_template_rows": null,
            "height": null,
            "justify_content": null,
            "justify_items": null,
            "left": null,
            "margin": null,
            "max_height": null,
            "max_width": null,
            "min_height": null,
            "min_width": null,
            "object_fit": null,
            "object_position": null,
            "order": null,
            "overflow": null,
            "overflow_x": null,
            "overflow_y": null,
            "padding": null,
            "right": null,
            "top": null,
            "visibility": null,
            "width": null
          }
        },
        "46c286e53a2c4301b8035fbb6473572b": {
          "model_module": "@jupyter-widgets/controls",
          "model_name": "DescriptionStyleModel",
          "model_module_version": "1.5.0",
          "state": {
            "_model_module": "@jupyter-widgets/controls",
            "_model_module_version": "1.5.0",
            "_model_name": "DescriptionStyleModel",
            "_view_count": null,
            "_view_module": "@jupyter-widgets/base",
            "_view_module_version": "1.2.0",
            "_view_name": "StyleView",
            "description_width": ""
          }
        },
        "6d986039cbc545e386df818bc523502e": {
          "model_module": "@jupyter-widgets/base",
          "model_name": "LayoutModel",
          "model_module_version": "1.2.0",
          "state": {
            "_model_module": "@jupyter-widgets/base",
            "_model_module_version": "1.2.0",
            "_model_name": "LayoutModel",
            "_view_count": null,
            "_view_module": "@jupyter-widgets/base",
            "_view_module_version": "1.2.0",
            "_view_name": "LayoutView",
            "align_content": null,
            "align_items": null,
            "align_self": null,
            "border": null,
            "bottom": null,
            "display": null,
            "flex": null,
            "flex_flow": null,
            "grid_area": null,
            "grid_auto_columns": null,
            "grid_auto_flow": null,
            "grid_auto_rows": null,
            "grid_column": null,
            "grid_gap": null,
            "grid_row": null,
            "grid_template_areas": null,
            "grid_template_columns": null,
            "grid_template_rows": null,
            "height": null,
            "justify_content": null,
            "justify_items": null,
            "left": null,
            "margin": null,
            "max_height": null,
            "max_width": null,
            "min_height": null,
            "min_width": null,
            "object_fit": null,
            "object_position": null,
            "order": null,
            "overflow": null,
            "overflow_x": null,
            "overflow_y": null,
            "padding": null,
            "right": null,
            "top": null,
            "visibility": null,
            "width": null
          }
        },
        "4ff8db632c1042edafe99f2c90fa5292": {
          "model_module": "@jupyter-widgets/controls",
          "model_name": "ProgressStyleModel",
          "model_module_version": "1.5.0",
          "state": {
            "_model_module": "@jupyter-widgets/controls",
            "_model_module_version": "1.5.0",
            "_model_name": "ProgressStyleModel",
            "_view_count": null,
            "_view_module": "@jupyter-widgets/base",
            "_view_module_version": "1.2.0",
            "_view_name": "StyleView",
            "bar_color": null,
            "description_width": ""
          }
        },
        "1d23538172f84fb985d513705462f8d1": {
          "model_module": "@jupyter-widgets/base",
          "model_name": "LayoutModel",
          "model_module_version": "1.2.0",
          "state": {
            "_model_module": "@jupyter-widgets/base",
            "_model_module_version": "1.2.0",
            "_model_name": "LayoutModel",
            "_view_count": null,
            "_view_module": "@jupyter-widgets/base",
            "_view_module_version": "1.2.0",
            "_view_name": "LayoutView",
            "align_content": null,
            "align_items": null,
            "align_self": null,
            "border": null,
            "bottom": null,
            "display": null,
            "flex": null,
            "flex_flow": null,
            "grid_area": null,
            "grid_auto_columns": null,
            "grid_auto_flow": null,
            "grid_auto_rows": null,
            "grid_column": null,
            "grid_gap": null,
            "grid_row": null,
            "grid_template_areas": null,
            "grid_template_columns": null,
            "grid_template_rows": null,
            "height": null,
            "justify_content": null,
            "justify_items": null,
            "left": null,
            "margin": null,
            "max_height": null,
            "max_width": null,
            "min_height": null,
            "min_width": null,
            "object_fit": null,
            "object_position": null,
            "order": null,
            "overflow": null,
            "overflow_x": null,
            "overflow_y": null,
            "padding": null,
            "right": null,
            "top": null,
            "visibility": null,
            "width": null
          }
        },
        "1624e06e35384107b91cec4a0ed8c419": {
          "model_module": "@jupyter-widgets/controls",
          "model_name": "DescriptionStyleModel",
          "model_module_version": "1.5.0",
          "state": {
            "_model_module": "@jupyter-widgets/controls",
            "_model_module_version": "1.5.0",
            "_model_name": "DescriptionStyleModel",
            "_view_count": null,
            "_view_module": "@jupyter-widgets/base",
            "_view_module_version": "1.2.0",
            "_view_name": "StyleView",
            "description_width": ""
          }
        }
      }
    }
  },
  "nbformat": 4,
  "nbformat_minor": 0
}